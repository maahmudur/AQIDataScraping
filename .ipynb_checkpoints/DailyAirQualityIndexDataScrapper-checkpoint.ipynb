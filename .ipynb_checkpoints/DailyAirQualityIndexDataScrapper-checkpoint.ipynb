{
 "cells": [
  {
   "cell_type": "code",
   "execution_count": null,
   "metadata": {
    "colab": {},
    "colab_type": "code",
    "collapsed": true,
    "id": "a82ahJs6j_pW"
   },
   "outputs": [],
   "source": [
    "#Importing Libraries\n",
    "import pandas as pd\n",
    "import bs4\n",
    "import requests\n",
    "from tqdm import tqdm\n",
    "import numpy as np\n",
    "import datetime"
   ]
  },
  {
   "cell_type": "code",
   "execution_count": null,
   "metadata": {
    "colab": {},
    "colab_type": "code",
    "collapsed": true,
    "id": "lL1ELUQAj_pb"
   },
   "outputs": [],
   "source": []
  },
  {
   "cell_type": "code",
   "execution_count": null,
   "metadata": {
    "colab": {},
    "colab_type": "code",
    "collapsed": true,
    "id": "Jivyhahcj_pf"
   },
   "outputs": [],
   "source": [
    "#Main URL\n",
    "base_url = \"http://case.doe.gov.bd/index.php?option=com_content&view=category&id=8&Itemid=32&limitstart=\""
   ]
  },
  {
   "cell_type": "code",
   "execution_count": null,
   "metadata": {
    "colab": {},
    "colab_type": "code",
    "collapsed": true,
    "id": "gjlQP2tMj_pi"
   },
   "outputs": [],
   "source": []
  },
  {
   "cell_type": "code",
   "execution_count": null,
   "metadata": {
    "colab": {},
    "colab_type": "code",
    "collapsed": true,
    "id": "vJeW80cWj_pl"
   },
   "outputs": [],
   "source": [
    "#each link has a pattern and a numerical value in it, hence making the numbers to create the primary links later\n",
    "\n",
    "first = 0\n",
    "last = 1920\n",
    "inc = 30\n",
    "page_numbers = []\n",
    "page_numbers.extend([i for i in range(first, last+inc, inc)])"
   ]
  },
  {
   "cell_type": "code",
   "execution_count": null,
   "metadata": {
    "colab": {
     "base_uri": "https://localhost:8080/",
     "height": 34
    },
    "colab_type": "code",
    "executionInfo": {
     "elapsed": 91908,
     "status": "ok",
     "timestamp": 1561884476193,
     "user": {
      "displayName": "siam rafsan",
      "photoUrl": "https://lh3.googleusercontent.com/-KoXrZAThQRA/AAAAAAAAAAI/AAAAAAAAADs/gT2-5XYEtho/s64/photo.jpg",
      "userId": "09780914350668689760"
     },
     "user_tz": -360
    },
    "id": "oXmcDAm_j_po",
    "outputId": "786889f3-09a0-42fc-8da2-c8c10dddf7eb"
   },
   "outputs": [],
   "source": [
    "#going to each primary page and collecting the secondary links\n",
    "\n",
    "link_list = []\n",
    "\n",
    "for item in tqdm(page_numbers):\n",
    "    extraction_url = base_url+str(item)\n",
    "    \n",
    "    r = requests.get(extraction_url)\n",
    "    r.raise_for_status()\n",
    "    \n",
    "    page = bs4.BeautifulSoup(r.text, \"html.parser\")\n",
    "    \n",
    "    page_links = page.find_all('a')\n",
    "    \n",
    "    for li in page_links:\n",
    "        if \"Air Quality Index (AQI)_\" in li.text:\n",
    "            link_list.append(\"http://case.doe.gov.bd\"+li.get('href'))"
   ]
  },
  {
   "cell_type": "code",
   "execution_count": null,
   "metadata": {
    "colab": {
     "base_uri": "https://localhost:8080/",
     "height": 34
    },
    "colab_type": "code",
    "executionInfo": {
     "elapsed": 855,
     "status": "ok",
     "timestamp": 1561884481060,
     "user": {
      "displayName": "siam rafsan",
      "photoUrl": "https://lh3.googleusercontent.com/-KoXrZAThQRA/AAAAAAAAAAI/AAAAAAAAADs/gT2-5XYEtho/s64/photo.jpg",
      "userId": "09780914350668689760"
     },
     "user_tz": -360
    },
    "id": "1LcJ2OJmj_pu",
    "outputId": "c2fd83cb-c23d-456d-f626-cee57bf8f90a"
   },
   "outputs": [],
   "source": [
    "#total number of links\n",
    "len(link_list)"
   ]
  },
  {
   "cell_type": "code",
   "execution_count": null,
   "metadata": {
    "colab": {},
    "colab_type": "code",
    "collapsed": true,
    "id": "IYZRjBL_j_pz"
   },
   "outputs": [],
   "source": [
    "#this function will collect date from a webpage \n",
    "def find_date(cur_page):\n",
    "    divs = cur_page.find_all(\"span\")\n",
    "    for item in divs:\n",
    "        temp = item.text\n",
    "        if temp.startswith(\"Date\"):\n",
    "            return temp"
   ]
  },
  {
   "cell_type": "code",
   "execution_count": null,
   "metadata": {
    "colab": {
     "base_uri": "https://localhost:8080/",
     "height": 34
    },
    "colab_type": "code",
    "executionInfo": {
     "elapsed": 931,
     "status": "ok",
     "timestamp": 1561884490376,
     "user": {
      "displayName": "siam rafsan",
      "photoUrl": "https://lh3.googleusercontent.com/-KoXrZAThQRA/AAAAAAAAAAI/AAAAAAAAADs/gT2-5XYEtho/s64/photo.jpg",
      "userId": "09780914350668689760"
     },
     "user_tz": -360
    },
    "id": "itNQ7eALj_p2",
    "outputId": "a6c3e817-4bab-4367-ca1c-d15445a2f3bd"
   },
   "outputs": [],
   "source": [
    "len(link_list)"
   ]
  },
  {
   "cell_type": "code",
   "execution_count": null,
   "metadata": {
    "colab": {},
    "colab_type": "code",
    "collapsed": true,
    "id": "XweFPb6oj_p7"
   },
   "outputs": [],
   "source": [
    "#this function will collect the data from a table from a webpage, receives a url and send back the dataframe we need\n",
    "\n",
    "def get_data_from_website(url):\n",
    "    cols = [\"Location\",\"Air Quality Index (AQI)\",\"AQI Category\", \"AQI Range\",\"Date\",\"URL\"]\n",
    "    df = pd.DataFrame(columns = cols)\n",
    "    r = requests.get(url)\n",
    "    r.raise_for_status()\n",
    "    \n",
    "    page = bs4.BeautifulSoup(r.text, \"html.parser\")\n",
    "    \n",
    "    for tr in page.find_all('tr'):\n",
    "        tableDatas = tr.find_all(\"td\")\n",
    "\n",
    "        if len(tableDatas)>0:\n",
    "\n",
    "            values = pd.Series(data = [item.text for item in tableDatas], index = cols[:-2])\n",
    "            df.loc[len(df)] = values\n",
    "\n",
    "    df['Date'] = find_date(page)\n",
    "    df[\"URL\"] = url\n",
    "    \n",
    "    return df"
   ]
  },
  {
   "cell_type": "code",
   "execution_count": null,
   "metadata": {
    "colab": {},
    "colab_type": "code",
    "collapsed": true,
    "id": "Mz41tam_j_p-"
   },
   "outputs": [],
   "source": []
  },
  {
   "cell_type": "code",
   "execution_count": null,
   "metadata": {
    "colab": {
     "base_uri": "https://localhost:8080/",
     "height": 34
    },
    "colab_type": "code",
    "executionInfo": {
     "elapsed": 2290936,
     "status": "ok",
     "timestamp": 1561886791174,
     "user": {
      "displayName": "siam rafsan",
      "photoUrl": "https://lh3.googleusercontent.com/-KoXrZAThQRA/AAAAAAAAAAI/AAAAAAAAADs/gT2-5XYEtho/s64/photo.jpg",
      "userId": "09780914350668689760"
     },
     "user_tz": -360
    },
    "id": "bbRpvu62j_qB",
    "outputId": "e473e0a9-2b07-4ab4-e86a-9b1cb7061535"
   },
   "outputs": [],
   "source": [
    "#making a list of dataframe from all the links \n",
    "dfs = []\n",
    "for link in tqdm(link_list):\n",
    "    dfs.append(get_data_from_website(link))"
   ]
  },
  {
   "cell_type": "code",
   "execution_count": null,
   "metadata": {
    "collapsed": true
   },
   "outputs": [],
   "source": []
  },
  {
   "cell_type": "code",
   "execution_count": null,
   "metadata": {
    "collapsed": true
   },
   "outputs": [],
   "source": []
  },
  {
   "cell_type": "code",
   "execution_count": null,
   "metadata": {
    "collapsed": true
   },
   "outputs": [],
   "source": [
    "#making a final dataframe appending all the tables collected from each link\n",
    "DF = pd.DataFrame()\n",
    "for df in dfs:\n",
    "    DF = DF.append(df)"
   ]
  },
  {
   "cell_type": "code",
   "execution_count": null,
   "metadata": {},
   "outputs": [],
   "source": [
    "len(DF)"
   ]
  },
  {
   "cell_type": "code",
   "execution_count": null,
   "metadata": {},
   "outputs": [],
   "source": [
    "DF.head()"
   ]
  },
  {
   "cell_type": "markdown",
   "metadata": {
    "collapsed": true
   },
   "source": [
    "### This merged dataset needs further cleaning since the whole data came up with some garbage values as well. "
   ]
  },
  {
   "cell_type": "code",
   "execution_count": null,
   "metadata": {
    "collapsed": true
   },
   "outputs": [],
   "source": []
  },
  {
   "cell_type": "code",
   "execution_count": null,
   "metadata": {
    "collapsed": true
   },
   "outputs": [],
   "source": []
  }
 ],
 "metadata": {
  "colab": {
   "name": "DailyAirQualityIndexDataScrapper.ipynb",
   "provenance": [],
   "version": "0.3.2"
  },
  "kernelspec": {
   "display_name": "Python 3",
   "language": "python",
   "name": "python3"
  },
  "language_info": {
   "codemirror_mode": {
    "name": "ipython",
    "version": 3
   },
   "file_extension": ".py",
   "mimetype": "text/x-python",
   "name": "python",
   "nbconvert_exporter": "python",
   "pygments_lexer": "ipython3",
   "version": "3.6.3"
  }
 },
 "nbformat": 4,
 "nbformat_minor": 1
}
