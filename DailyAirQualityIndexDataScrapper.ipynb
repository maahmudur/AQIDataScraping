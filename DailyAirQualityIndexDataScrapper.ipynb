{
 "cells": [
  {
   "cell_type": "code",
   "execution_count": 1,
   "metadata": {
    "colab": {},
    "colab_type": "code",
    "id": "a82ahJs6j_pW"
   },
   "outputs": [],
   "source": [
    "import pandas as pd #for data manipulation and analysis\n",
    "import bs4 #library for pulling data out of HTML\n",
    "import requests #will allow you to send HTTP/1.1 requests\n",
    "from tqdm import tqdm #instantly make your loops show a smart progress meter\n",
    "import numpy as np #for advanced mathematical operations \n",
    "import datetime #for manipulating dates and times in both simple and complex ways"
   ]
  },
  {
   "cell_type": "code",
   "execution_count": null,
   "metadata": {
    "colab": {},
    "colab_type": "code",
    "id": "lL1ELUQAj_pb"
   },
   "outputs": [],
   "source": []
  },
  {
   "cell_type": "code",
   "execution_count": 2,
   "metadata": {
    "colab": {},
    "colab_type": "code",
    "id": "Jivyhahcj_pf"
   },
   "outputs": [],
   "source": [
    "#Main URL from where we would like to download data \n",
    "base_url = \"http://case.doe.gov.bd/index.php?option=com_content&view=category&id=8&Itemid=32&limitstart=\""
   ]
  },
  {
   "cell_type": "markdown",
   "metadata": {
    "colab": {},
    "colab_type": "code",
    "collapsed": true,
    "id": "gjlQP2tMj_pi"
   },
   "source": [
    "If we take a look into the main page we will see the first page only shows 30 entries (URLs to main data) and we have to go to next page for next 30 days of data. Looking into a few page URLs you will see there is a pattern.    \n",
    "\n",
    "• Page01 - http://case.doe.gov.bd/index.php?option=com_content&view=category&id=8&Itemid=32&limitstart= <br>\n",
    "• Page02 - http://case.doe.gov.bd/index.php?option=com_content&view=category&id=8&Itemid=32&limitstart=30 <br>\n",
    "• Page03 - http://case.doe.gov.bd/index.php?option=com_content&view=category&id=8&Itemid=32&limitstart=60 <br>\n",
    "• Page67 - http://case.doe.gov.bd/index.php?option=com_content&view=category&id=8&Itemid=32&limitstart=1980 <br>\n",
    "\n",
    "So we need to generate these URLs in a way so that we can loop through them and parse each page."
   ]
  },
  {
   "cell_type": "code",
   "execution_count": null,
   "metadata": {},
   "outputs": [],
   "source": []
  },
  {
   "cell_type": "code",
   "execution_count": 3,
   "metadata": {
    "colab": {},
    "colab_type": "code",
    "id": "vJeW80cWj_pl"
   },
   "outputs": [],
   "source": [
    "#each link has a pattern and a numerical value in it, hence making the numbers that will be used to create \n",
    "#the primary URLs later\n",
    "\n",
    "first = 0\n",
    "last = 1980\n",
    "inc = 30\n",
    "page_numbers = []\n",
    "page_numbers.extend([i for i in range(first, last+inc, inc)])"
   ]
  },
  {
   "cell_type": "code",
   "execution_count": null,
   "metadata": {},
   "outputs": [],
   "source": []
  },
  {
   "cell_type": "code",
   "execution_count": 4,
   "metadata": {
    "colab": {
     "base_uri": "https://localhost:8080/",
     "height": 34
    },
    "colab_type": "code",
    "executionInfo": {
     "elapsed": 91908,
     "status": "ok",
     "timestamp": 1561884476193,
     "user": {
      "displayName": "siam rafsan",
      "photoUrl": "https://lh3.googleusercontent.com/-KoXrZAThQRA/AAAAAAAAAAI/AAAAAAAAADs/gT2-5XYEtho/s64/photo.jpg",
      "userId": "09780914350668689760"
     },
     "user_tz": -360
    },
    "id": "oXmcDAm_j_po",
    "outputId": "786889f3-09a0-42fc-8da2-c8c10dddf7eb"
   },
   "outputs": [
    {
     "name": "stderr",
     "output_type": "stream",
     "text": [
      "100%|██████████████████████████████████████████████████████████████████████████████████| 67/67 [01:14<00:00,  1.21s/it]\n"
     ]
    }
   ],
   "source": [
    "#going to each primary page and collecting the secondary URLs\n",
    "\n",
    "link_list = []\n",
    "\n",
    "for item in tqdm(page_numbers):\n",
    "    extraction_url = base_url+str(item) \n",
    "    \n",
    "    r = requests.get(extraction_url)\n",
    "    r.raise_for_status()\n",
    "    \n",
    "    page = bs4.BeautifulSoup(r.text, \"html.parser\")\n",
    "    \n",
    "    page_links = page.find_all('a')\n",
    "    \n",
    "    for li in page_links:\n",
    "        if \"Air Quality Index (AQI)_\" in li.text:\n",
    "            link_list.append(\"http://case.doe.gov.bd\"+li.get('href'))"
   ]
  },
  {
   "cell_type": "code",
   "execution_count": null,
   "metadata": {},
   "outputs": [],
   "source": []
  },
  {
   "cell_type": "code",
   "execution_count": 5,
   "metadata": {
    "colab": {
     "base_uri": "https://localhost:8080/",
     "height": 34
    },
    "colab_type": "code",
    "executionInfo": {
     "elapsed": 855,
     "status": "ok",
     "timestamp": 1561884481060,
     "user": {
      "displayName": "siam rafsan",
      "photoUrl": "https://lh3.googleusercontent.com/-KoXrZAThQRA/AAAAAAAAAAI/AAAAAAAAADs/gT2-5XYEtho/s64/photo.jpg",
      "userId": "09780914350668689760"
     },
     "user_tz": -360
    },
    "id": "1LcJ2OJmj_pu",
    "outputId": "c2fd83cb-c23d-456d-f626-cee57bf8f90a"
   },
   "outputs": [
    {
     "data": {
      "text/plain": [
       "1997"
      ]
     },
     "execution_count": 5,
     "metadata": {},
     "output_type": "execute_result"
    }
   ],
   "source": [
    "#total number of URLs\n",
    "len(link_list)"
   ]
  },
  {
   "cell_type": "code",
   "execution_count": null,
   "metadata": {},
   "outputs": [],
   "source": []
  },
  {
   "cell_type": "code",
   "execution_count": 6,
   "metadata": {
    "colab": {},
    "colab_type": "code",
    "id": "IYZRjBL_j_pz"
   },
   "outputs": [],
   "source": [
    "#this function will collect date from a page \n",
    "def find_date(cur_page):\n",
    "    divs = cur_page.find_all(\"span\")\n",
    "    for item in divs:\n",
    "        temp = item.text\n",
    "        if temp.lower().strip().startswith(\"date\"):\n",
    "            return temp.strip()"
   ]
  },
  {
   "cell_type": "code",
   "execution_count": null,
   "metadata": {
    "colab": {
     "base_uri": "https://localhost:8080/",
     "height": 34
    },
    "colab_type": "code",
    "executionInfo": {
     "elapsed": 931,
     "status": "ok",
     "timestamp": 1561884490376,
     "user": {
      "displayName": "siam rafsan",
      "photoUrl": "https://lh3.googleusercontent.com/-KoXrZAThQRA/AAAAAAAAAAI/AAAAAAAAADs/gT2-5XYEtho/s64/photo.jpg",
      "userId": "09780914350668689760"
     },
     "user_tz": -360
    },
    "id": "itNQ7eALj_p2",
    "outputId": "a6c3e817-4bab-4367-ca1c-d15445a2f3bd"
   },
   "outputs": [],
   "source": []
  },
  {
   "cell_type": "code",
   "execution_count": 7,
   "metadata": {
    "colab": {},
    "colab_type": "code",
    "id": "XweFPb6oj_p7"
   },
   "outputs": [],
   "source": [
    "#this function will collect the data from a table from a webpage, receives a url and send back the dataframe we need\n",
    "\n",
    "def get_data_from_website(url):\n",
    "    cols = [\"Location\",\"Air Quality Index (AQI)\",\"AQI Category\", \"AQI Range\",\"Date\",\"URL\"]\n",
    "    df = pd.DataFrame(columns = cols)\n",
    "    r = requests.get(url)\n",
    "    r.raise_for_status()\n",
    "    \n",
    "    page = bs4.BeautifulSoup(r.text, \"html.parser\")\n",
    "    \n",
    "    for tr in page.find_all('tr'):\n",
    "        tableDatas = tr.find_all(\"td\")\n",
    "\n",
    "        if len(tableDatas)>0:\n",
    "\n",
    "            values = pd.Series(data = [item.text for item in tableDatas], index = cols[:-2])\n",
    "            df.loc[len(df)] = values\n",
    "\n",
    "    df['Date'] = find_date(page)\n",
    "    df[\"URL\"] = url\n",
    "    \n",
    "    return df"
   ]
  },
  {
   "cell_type": "code",
   "execution_count": null,
   "metadata": {
    "colab": {},
    "colab_type": "code",
    "id": "Mz41tam_j_p-"
   },
   "outputs": [],
   "source": []
  },
  {
   "cell_type": "code",
   "execution_count": 8,
   "metadata": {
    "colab": {
     "base_uri": "https://localhost:8080/",
     "height": 34
    },
    "colab_type": "code",
    "executionInfo": {
     "elapsed": 2290936,
     "status": "ok",
     "timestamp": 1561886791174,
     "user": {
      "displayName": "siam rafsan",
      "photoUrl": "https://lh3.googleusercontent.com/-KoXrZAThQRA/AAAAAAAAAAI/AAAAAAAAADs/gT2-5XYEtho/s64/photo.jpg",
      "userId": "09780914350668689760"
     },
     "user_tz": -360
    },
    "id": "bbRpvu62j_qB",
    "outputId": "e473e0a9-2b07-4ab4-e86a-9b1cb7061535"
   },
   "outputs": [
    {
     "name": "stderr",
     "output_type": "stream",
     "text": [
      "100%|██████████████████████████████████████████████████████████████████████████████| 1997/1997 [16:48<00:00,  2.75it/s]\n"
     ]
    }
   ],
   "source": [
    "#making a list of dataframe from all the links using the function we just made\n",
    "dfs = []\n",
    "for link in tqdm(link_list):\n",
    "    dfs.append(get_data_from_website(link))"
   ]
  },
  {
   "cell_type": "code",
   "execution_count": null,
   "metadata": {},
   "outputs": [],
   "source": []
  },
  {
   "cell_type": "code",
   "execution_count": 9,
   "metadata": {},
   "outputs": [],
   "source": [
    "#Creating a final dataframe appending all the tables collected from each link\n",
    "DF = pd.DataFrame()\n",
    "for df in dfs:\n",
    "    DF = DF.append(df)"
   ]
  },
  {
   "cell_type": "code",
   "execution_count": 10,
   "metadata": {},
   "outputs": [
    {
     "data": {
      "text/plain": [
       "18472"
      ]
     },
     "execution_count": 10,
     "metadata": {},
     "output_type": "execute_result"
    }
   ],
   "source": [
    "len(DF)"
   ]
  },
  {
   "cell_type": "code",
   "execution_count": 11,
   "metadata": {},
   "outputs": [
    {
     "data": {
      "text/html": [
       "<div>\n",
       "<style scoped>\n",
       "    .dataframe tbody tr th:only-of-type {\n",
       "        vertical-align: middle;\n",
       "    }\n",
       "\n",
       "    .dataframe tbody tr th {\n",
       "        vertical-align: top;\n",
       "    }\n",
       "\n",
       "    .dataframe thead th {\n",
       "        text-align: right;\n",
       "    }\n",
       "</style>\n",
       "<table border=\"1\" class=\"dataframe\">\n",
       "  <thead>\n",
       "    <tr style=\"text-align: right;\">\n",
       "      <th></th>\n",
       "      <th>Location</th>\n",
       "      <th>Air Quality Index (AQI)</th>\n",
       "      <th>AQI Category</th>\n",
       "      <th>AQI Range</th>\n",
       "      <th>Date</th>\n",
       "      <th>URL</th>\n",
       "    </tr>\n",
       "  </thead>\n",
       "  <tbody>\n",
       "    <tr>\n",
       "      <th>0</th>\n",
       "      <td>LOCATION</td>\n",
       "      <td>Air Quality Index (AQI)</td>\n",
       "      <td>AQI CATEGORY</td>\n",
       "      <td>AQI RANGE</td>\n",
       "      <td>Date: 16/09/2019</td>\n",
       "      <td>http://case.doe.gov.bd/index.php?option=com_co...</td>\n",
       "    </tr>\n",
       "    <tr>\n",
       "      <th>1</th>\n",
       "      <td>DHAKAb</td>\n",
       "      <td>82</td>\n",
       "      <td>MODERATE</td>\n",
       "      <td></td>\n",
       "      <td>Date: 16/09/2019</td>\n",
       "      <td>http://case.doe.gov.bd/index.php?option=com_co...</td>\n",
       "    </tr>\n",
       "    <tr>\n",
       "      <th>2</th>\n",
       "      <td>GAZIPURc</td>\n",
       "      <td>84</td>\n",
       "      <td>MODERATE</td>\n",
       "      <td></td>\n",
       "      <td>Date: 16/09/2019</td>\n",
       "      <td>http://case.doe.gov.bd/index.php?option=com_co...</td>\n",
       "    </tr>\n",
       "    <tr>\n",
       "      <th>3</th>\n",
       "      <td>NARAYANGANJc</td>\n",
       "      <td>54</td>\n",
       "      <td>MODERATE</td>\n",
       "      <td></td>\n",
       "      <td>Date: 16/09/2019</td>\n",
       "      <td>http://case.doe.gov.bd/index.php?option=com_co...</td>\n",
       "    </tr>\n",
       "    <tr>\n",
       "      <th>4</th>\n",
       "      <td>CHITTAGONGc</td>\n",
       "      <td>55</td>\n",
       "      <td>MODERATE</td>\n",
       "      <td>37-95</td>\n",
       "      <td>Date: 16/09/2019</td>\n",
       "      <td>http://case.doe.gov.bd/index.php?option=com_co...</td>\n",
       "    </tr>\n",
       "  </tbody>\n",
       "</table>\n",
       "</div>"
      ],
      "text/plain": [
       "       Location  Air Quality Index (AQI)   AQI Category  AQI Range  \\\n",
       "0      LOCATION  Air Quality Index (AQI)   AQI CATEGORY  AQI RANGE   \n",
       "1        DHAKAb                       82       MODERATE              \n",
       "2      GAZIPURc                       84       MODERATE              \n",
       "3  NARAYANGANJc                       54       MODERATE              \n",
       "4   CHITTAGONGc                       55       MODERATE      37-95   \n",
       "\n",
       "               Date                                                URL  \n",
       "0  Date: 16/09/2019  http://case.doe.gov.bd/index.php?option=com_co...  \n",
       "1  Date: 16/09/2019  http://case.doe.gov.bd/index.php?option=com_co...  \n",
       "2  Date: 16/09/2019  http://case.doe.gov.bd/index.php?option=com_co...  \n",
       "3  Date: 16/09/2019  http://case.doe.gov.bd/index.php?option=com_co...  \n",
       "4  Date: 16/09/2019  http://case.doe.gov.bd/index.php?option=com_co...  "
      ]
     },
     "execution_count": 11,
     "metadata": {},
     "output_type": "execute_result"
    }
   ],
   "source": [
    "DF.head()"
   ]
  },
  {
   "cell_type": "markdown",
   "metadata": {
    "collapsed": true
   },
   "source": [
    "### This merged dataset needs further cleaning since the whole data came up with some garbage values as well. "
   ]
  },
  {
   "cell_type": "code",
   "execution_count": null,
   "metadata": {},
   "outputs": [],
   "source": []
  }
 ],
 "metadata": {
  "colab": {
   "name": "DailyAirQualityIndexDataScrapper.ipynb",
   "provenance": [],
   "version": "0.3.2"
  },
  "kernelspec": {
   "display_name": "Python 3",
   "language": "python",
   "name": "python3"
  },
  "language_info": {
   "codemirror_mode": {
    "name": "ipython",
    "version": 3
   },
   "file_extension": ".py",
   "mimetype": "text/x-python",
   "name": "python",
   "nbconvert_exporter": "python",
   "pygments_lexer": "ipython3",
   "version": "3.7.3"
  }
 },
 "nbformat": 4,
 "nbformat_minor": 1
}
