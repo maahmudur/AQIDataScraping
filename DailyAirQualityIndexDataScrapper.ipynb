{
 "cells": [
  {
   "cell_type": "code",
   "execution_count": 1,
   "metadata": {
    "colab": {},
    "colab_type": "code",
    "collapsed": true,
    "id": "a82ahJs6j_pW"
   },
   "outputs": [],
   "source": [
    "#Importing Libraries\n",
    "import pandas as pd\n",
    "import bs4\n",
    "import requests\n",
    "from tqdm import tqdm\n",
    "import numpy as np\n",
    "import datetime"
   ]
  },
  {
   "cell_type": "code",
   "execution_count": null,
   "metadata": {
    "colab": {},
    "colab_type": "code",
    "collapsed": true,
    "id": "lL1ELUQAj_pb"
   },
   "outputs": [],
   "source": []
  },
  {
   "cell_type": "code",
   "execution_count": 4,
   "metadata": {
    "colab": {},
    "colab_type": "code",
    "collapsed": true,
    "id": "Jivyhahcj_pf"
   },
   "outputs": [],
   "source": [
    "#Main URL\n",
    "base_url = \"http://case.doe.gov.bd/index.php?option=com_content&view=category&id=8&Itemid=32&limitstart=\""
   ]
  },
  {
   "cell_type": "code",
   "execution_count": null,
   "metadata": {
    "colab": {},
    "colab_type": "code",
    "collapsed": true,
    "id": "gjlQP2tMj_pi"
   },
   "outputs": [],
   "source": []
  },
  {
   "cell_type": "code",
   "execution_count": 5,
   "metadata": {
    "colab": {},
    "colab_type": "code",
    "collapsed": true,
    "id": "vJeW80cWj_pl"
   },
   "outputs": [],
   "source": [
    "#each link has a pattern and a numerical value in it, hence making the numbers to create the primary links later\n",
    "\n",
    "first = 0\n",
    "last = 1920\n",
    "inc = 30\n",
    "page_numbers = []\n",
    "page_numbers.extend([i for i in range(first, last+inc, inc)])"
   ]
  },
  {
   "cell_type": "code",
   "execution_count": 7,
   "metadata": {
    "colab": {
     "base_uri": "https://localhost:8080/",
     "height": 34
    },
    "colab_type": "code",
    "executionInfo": {
     "elapsed": 91908,
     "status": "ok",
     "timestamp": 1561884476193,
     "user": {
      "displayName": "siam rafsan",
      "photoUrl": "https://lh3.googleusercontent.com/-KoXrZAThQRA/AAAAAAAAAAI/AAAAAAAAADs/gT2-5XYEtho/s64/photo.jpg",
      "userId": "09780914350668689760"
     },
     "user_tz": -360
    },
    "id": "oXmcDAm_j_po",
    "outputId": "786889f3-09a0-42fc-8da2-c8c10dddf7eb"
   },
   "outputs": [
    {
     "name": "stderr",
     "output_type": "stream",
     "text": [
      "\n",
      "  0%|                                                                                           | 0/65 [00:00<?, ?it/s]\n",
      "  2%|█▎                                                                                 | 1/65 [00:00<01:00,  1.06it/s]\n",
      "  3%|██▌                                                                                | 2/65 [00:01<00:55,  1.13it/s]\n",
      "  5%|███▊                                                                               | 3/65 [00:02<00:53,  1.16it/s]\n",
      "  6%|█████                                                                              | 4/65 [00:03<00:52,  1.16it/s]\n",
      "  8%|██████▍                                                                            | 5/65 [00:04<00:53,  1.12it/s]\n",
      "  9%|███████▋                                                                           | 6/65 [00:05<00:52,  1.12it/s]\n",
      " 11%|████████▉                                                                          | 7/65 [00:06<00:51,  1.13it/s]\n",
      " 12%|██████████▏                                                                        | 8/65 [00:07<00:50,  1.13it/s]\n",
      "Exception in thread Thread-6:\n",
      "Traceback (most recent call last):\n",
      "  File \"C:\\ProgramData\\Anaconda3\\lib\\threading.py\", line 916, in _bootstrap_inner\n",
      "    self.run()\n",
      "  File \"C:\\ProgramData\\Anaconda3\\lib\\site-packages\\tqdm\\_tqdm.py\", line 144, in run\n",
      "    for instance in self.tqdm_cls._instances:\n",
      "  File \"C:\\ProgramData\\Anaconda3\\lib\\_weakrefset.py\", line 60, in __iter__\n",
      "    for itemref in self.data:\n",
      "RuntimeError: Set changed size during iteration\n",
      "\n",
      "100%|██████████████████████████████████████████████████████████████████████████████████| 65/65 [01:00<00:00,  1.07it/s]\n"
     ]
    }
   ],
   "source": [
    "#going to each primary page and collecting the secondary links\n",
    "\n",
    "link_list = []\n",
    "\n",
    "for item in tqdm(page_numbers):\n",
    "    extraction_url = base_url+str(item)\n",
    "    \n",
    "    r = requests.get(extraction_url)\n",
    "    r.raise_for_status()\n",
    "    \n",
    "    page = bs4.BeautifulSoup(r.text, \"html.parser\")\n",
    "    \n",
    "    page_links = page.find_all('a')\n",
    "    \n",
    "    try:\n",
    "        for li in page_links:\n",
    "            if \"Air Quality Index (AQI)_\" in li.text:\n",
    "                link_list.append(\"http://case.doe.gov.bd\"+li.get('href'))\n",
    "    except err:\n",
    "          print(err)"
   ]
  },
  {
   "cell_type": "code",
   "execution_count": 8,
   "metadata": {
    "colab": {
     "base_uri": "https://localhost:8080/",
     "height": 34
    },
    "colab_type": "code",
    "executionInfo": {
     "elapsed": 855,
     "status": "ok",
     "timestamp": 1561884481060,
     "user": {
      "displayName": "siam rafsan",
      "photoUrl": "https://lh3.googleusercontent.com/-KoXrZAThQRA/AAAAAAAAAAI/AAAAAAAAADs/gT2-5XYEtho/s64/photo.jpg",
      "userId": "09780914350668689760"
     },
     "user_tz": -360
    },
    "id": "1LcJ2OJmj_pu",
    "outputId": "c2fd83cb-c23d-456d-f626-cee57bf8f90a"
   },
   "outputs": [
    {
     "data": {
      "text/plain": [
       "1917"
      ]
     },
     "execution_count": 8,
     "metadata": {},
     "output_type": "execute_result"
    }
   ],
   "source": [
    "#total number of links\n",
    "len(link_list)"
   ]
  },
  {
   "cell_type": "code",
   "execution_count": 9,
   "metadata": {
    "colab": {},
    "colab_type": "code",
    "collapsed": true,
    "id": "IYZRjBL_j_pz"
   },
   "outputs": [],
   "source": [
    "#this function will collect date from a webpage \n",
    "def find_date(cur_page):\n",
    "    divs = cur_page.find_all(\"span\")\n",
    "    for item in divs:\n",
    "        temp = item.text\n",
    "        if temp.startswith(\"Date\"):\n",
    "            return temp"
   ]
  },
  {
   "cell_type": "code",
   "execution_count": 10,
   "metadata": {
    "colab": {
     "base_uri": "https://localhost:8080/",
     "height": 34
    },
    "colab_type": "code",
    "executionInfo": {
     "elapsed": 931,
     "status": "ok",
     "timestamp": 1561884490376,
     "user": {
      "displayName": "siam rafsan",
      "photoUrl": "https://lh3.googleusercontent.com/-KoXrZAThQRA/AAAAAAAAAAI/AAAAAAAAADs/gT2-5XYEtho/s64/photo.jpg",
      "userId": "09780914350668689760"
     },
     "user_tz": -360
    },
    "id": "itNQ7eALj_p2",
    "outputId": "a6c3e817-4bab-4367-ca1c-d15445a2f3bd"
   },
   "outputs": [
    {
     "data": {
      "text/plain": [
       "1917"
      ]
     },
     "execution_count": 10,
     "metadata": {},
     "output_type": "execute_result"
    }
   ],
   "source": [
    "len(link_list)"
   ]
  },
  {
   "cell_type": "code",
   "execution_count": 11,
   "metadata": {
    "colab": {},
    "colab_type": "code",
    "collapsed": true,
    "id": "XweFPb6oj_p7"
   },
   "outputs": [],
   "source": [
    "#this function will collect the data from a table from a webpage, receives a url and send back the dataframe we need\n",
    "\n",
    "def get_data_from_website(url):\n",
    "    cols = [\"Location\",\"Air Quality Index (AQI)\",\"AQI Category\", \"AQI Range\",\"Date\",\"URL\"]\n",
    "    df = pd.DataFrame(columns = cols)\n",
    "    r = requests.get(url)\n",
    "    r.raise_for_status()\n",
    "    \n",
    "    page = bs4.BeautifulSoup(r.text, \"html.parser\")\n",
    "    \n",
    "    for tr in page.find_all('tr'):\n",
    "        tableDatas = tr.find_all(\"td\")\n",
    "\n",
    "        if len(tableDatas)>0:\n",
    "\n",
    "            values = pd.Series(data = [item.text for item in tableDatas], index = cols[:-2])\n",
    "            df.loc[len(df)] = values\n",
    "\n",
    "    df['Date'] = find_date(page)\n",
    "    df[\"URL\"] = url\n",
    "    \n",
    "    return df"
   ]
  },
  {
   "cell_type": "code",
   "execution_count": null,
   "metadata": {
    "colab": {},
    "colab_type": "code",
    "collapsed": true,
    "id": "Mz41tam_j_p-"
   },
   "outputs": [],
   "source": []
  },
  {
   "cell_type": "code",
   "execution_count": 12,
   "metadata": {
    "colab": {
     "base_uri": "https://localhost:8080/",
     "height": 34
    },
    "colab_type": "code",
    "executionInfo": {
     "elapsed": 2290936,
     "status": "ok",
     "timestamp": 1561886791174,
     "user": {
      "displayName": "siam rafsan",
      "photoUrl": "https://lh3.googleusercontent.com/-KoXrZAThQRA/AAAAAAAAAAI/AAAAAAAAADs/gT2-5XYEtho/s64/photo.jpg",
      "userId": "09780914350668689760"
     },
     "user_tz": -360
    },
    "id": "bbRpvu62j_qB",
    "outputId": "e473e0a9-2b07-4ab4-e86a-9b1cb7061535"
   },
   "outputs": [
    {
     "name": "stderr",
     "output_type": "stream",
     "text": [
      "100%|██████████████████████████████████████████████████████████████████████████████| 1917/1917 [22:55<00:00,  1.39it/s]\n"
     ]
    }
   ],
   "source": [
    "#making a list of dataframe from all the links \n",
    "dfs = []\n",
    "for link in tqdm(link_list):\n",
    "    dfs.append(get_data_from_website(link))"
   ]
  },
  {
   "cell_type": "code",
   "execution_count": null,
   "metadata": {
    "collapsed": true
   },
   "outputs": [],
   "source": []
  },
  {
   "cell_type": "code",
   "execution_count": null,
   "metadata": {
    "collapsed": true
   },
   "outputs": [],
   "source": []
  },
  {
   "cell_type": "code",
   "execution_count": null,
   "metadata": {
    "collapsed": true
   },
   "outputs": [],
   "source": []
  },
  {
   "cell_type": "code",
   "execution_count": 106,
   "metadata": {
    "collapsed": true
   },
   "outputs": [],
   "source": [
    "DF = pd.DataFrame()\n",
    "for df in dfs:\n",
    "    DF = DF.append(df)"
   ]
  },
  {
   "cell_type": "code",
   "execution_count": 107,
   "metadata": {},
   "outputs": [
    {
     "data": {
      "text/plain": [
       "17352"
      ]
     },
     "execution_count": 107,
     "metadata": {},
     "output_type": "execute_result"
    }
   ],
   "source": [
    "len(DF)"
   ]
  },
  {
   "cell_type": "code",
   "execution_count": 108,
   "metadata": {},
   "outputs": [
    {
     "data": {
      "text/html": [
       "<div>\n",
       "<style>\n",
       "    .dataframe thead tr:only-child th {\n",
       "        text-align: right;\n",
       "    }\n",
       "\n",
       "    .dataframe thead th {\n",
       "        text-align: left;\n",
       "    }\n",
       "\n",
       "    .dataframe tbody tr th {\n",
       "        vertical-align: top;\n",
       "    }\n",
       "</style>\n",
       "<table border=\"1\" class=\"dataframe\">\n",
       "  <thead>\n",
       "    <tr style=\"text-align: right;\">\n",
       "      <th></th>\n",
       "      <th>Location</th>\n",
       "      <th>Air Quality Index (AQI)</th>\n",
       "      <th>AQI Category</th>\n",
       "      <th>AQI Range</th>\n",
       "      <th>Date</th>\n",
       "      <th>URL</th>\n",
       "    </tr>\n",
       "  </thead>\n",
       "  <tbody>\n",
       "    <tr>\n",
       "      <th>0</th>\n",
       "      <td>LOCATION</td>\n",
       "      <td>Air Quality Index (AQI)</td>\n",
       "      <td>AQI CATEGORY</td>\n",
       "      <td>AQI RANGE</td>\n",
       "      <td>Date: 26/06/2019</td>\n",
       "      <td>http://case.doe.gov.bd/index.php?option=com_co...</td>\n",
       "    </tr>\n",
       "    <tr>\n",
       "      <th>1</th>\n",
       "      <td>DHAKAb</td>\n",
       "      <td>122</td>\n",
       "      <td>CAUTION</td>\n",
       "      <td></td>\n",
       "      <td>Date: 26/06/2019</td>\n",
       "      <td>http://case.doe.gov.bd/index.php?option=com_co...</td>\n",
       "    </tr>\n",
       "    <tr>\n",
       "      <th>2</th>\n",
       "      <td>GAZIPURc</td>\n",
       "      <td>39</td>\n",
       "      <td>GOOD</td>\n",
       "      <td></td>\n",
       "      <td>Date: 26/06/2019</td>\n",
       "      <td>http://case.doe.gov.bd/index.php?option=com_co...</td>\n",
       "    </tr>\n",
       "    <tr>\n",
       "      <th>3</th>\n",
       "      <td>NARAYANGANJc</td>\n",
       "      <td>53</td>\n",
       "      <td>MODERATE</td>\n",
       "      <td></td>\n",
       "      <td>Date: 26/06/2019</td>\n",
       "      <td>http://case.doe.gov.bd/index.php?option=com_co...</td>\n",
       "    </tr>\n",
       "    <tr>\n",
       "      <th>4</th>\n",
       "      <td>CHITTAGONGc</td>\n",
       "      <td>46</td>\n",
       "      <td>GOOD</td>\n",
       "      <td></td>\n",
       "      <td>Date: 26/06/2019</td>\n",
       "      <td>http://case.doe.gov.bd/index.php?option=com_co...</td>\n",
       "    </tr>\n",
       "  </tbody>\n",
       "</table>\n",
       "</div>"
      ],
      "text/plain": [
       "       Location  Air Quality Index (AQI)   AQI Category  AQI Range  \\\n",
       "0      LOCATION  Air Quality Index (AQI)   AQI CATEGORY  AQI RANGE   \n",
       "1        DHAKAb                      122        CAUTION              \n",
       "2      GAZIPURc                       39           GOOD              \n",
       "3  NARAYANGANJc                       53       MODERATE              \n",
       "4   CHITTAGONGc                       46           GOOD              \n",
       "\n",
       "               Date                                                URL  \n",
       "0  Date: 26/06/2019  http://case.doe.gov.bd/index.php?option=com_co...  \n",
       "1  Date: 26/06/2019  http://case.doe.gov.bd/index.php?option=com_co...  \n",
       "2  Date: 26/06/2019  http://case.doe.gov.bd/index.php?option=com_co...  \n",
       "3  Date: 26/06/2019  http://case.doe.gov.bd/index.php?option=com_co...  \n",
       "4  Date: 26/06/2019  http://case.doe.gov.bd/index.php?option=com_co...  "
      ]
     },
     "execution_count": 108,
     "metadata": {},
     "output_type": "execute_result"
    }
   ],
   "source": [
    "DF.head()"
   ]
  },
  {
   "cell_type": "code",
   "execution_count": 109,
   "metadata": {},
   "outputs": [
    {
     "data": {
      "text/plain": [
       "array(['LOCATION', 'DHAKAb', 'GAZIPURc', 'NARAYANGANJc', 'CHITTAGONGc',\n",
       "       'SYLHETc', 'KHULNAc', 'RAJSHAHIc', 'BARISHALc', 'SAVARc',\n",
       "       'MYMENSINGHc', 'RANGPURc', 'CUMILLAc', '', 'Dhakab', 'Chittagongc',\n",
       "       'Gazipurc', 'Narayanganjc', 'Sylhetc', 'Khulnac', 'Rajshahic',\n",
       "       'Barisalc', 'Dhakac', 'DhakaC', 'Dhakaa', 'Chittagongb',\n",
       "       'ChittagongC', 'Sylhetc2', 'gongb', 'Sylhetcc'], dtype=object)"
      ]
     },
     "execution_count": 109,
     "metadata": {},
     "output_type": "execute_result"
    }
   ],
   "source": [
    "DF.Location.unique()"
   ]
  },
  {
   "cell_type": "code",
   "execution_count": 110,
   "metadata": {
    "collapsed": true
   },
   "outputs": [],
   "source": [
    "DF.drop(DF[DF.Location.isin(['LOCATION','','gongb'])].index,inplace=True)\n",
    "DF.reset_index(drop=True,inplace=True)"
   ]
  },
  {
   "cell_type": "code",
   "execution_count": 111,
   "metadata": {},
   "outputs": [
    {
     "data": {
      "text/plain": [
       "13480"
      ]
     },
     "execution_count": 111,
     "metadata": {},
     "output_type": "execute_result"
    }
   ],
   "source": [
    "len(DF)"
   ]
  },
  {
   "cell_type": "code",
   "execution_count": 112,
   "metadata": {
    "collapsed": true
   },
   "outputs": [],
   "source": [
    "DF.columns = [col.lower().replace(\" \",\"_\") for col in DF.columns]"
   ]
  },
  {
   "cell_type": "code",
   "execution_count": 113,
   "metadata": {},
   "outputs": [
    {
     "data": {
      "text/plain": [
       "array(['DHAKAb', 'NARAYANGANJc', 'CHITTAGONGc', 'SYLHETc', 'KHULNAc',\n",
       "       'RAJSHAHIc', 'BARISHALc', 'MYMENSINGHc', 'RANGPURc', 'CUMILLAc',\n",
       "       'Dhakab', 'Gazipurc', 'Narayanganjc', 'Sylhetc', 'Khulnac',\n",
       "       'Rajshahic', 'Barisalc', 'Dhakac', 'DhakaC', 'Dhakaa', 'Sylhetc2',\n",
       "       'Chittagongb', 'Sylhetcc'], dtype=object)"
      ]
     },
     "execution_count": 113,
     "metadata": {},
     "output_type": "execute_result"
    }
   ],
   "source": [
    "DF.location.unique()"
   ]
  },
  {
   "cell_type": "code",
   "execution_count": 114,
   "metadata": {
    "collapsed": true
   },
   "outputs": [],
   "source": [
    "loc_dict = {'DHAKAb':\"dhaka\", 'NARAYANGANJc':\"narayanganj\", 'CHITTAGONGc':\"chittagong\", 'SYLHETc':\"sylhet\", 'KHULNAc':\"khulna\",\n",
    "            'RAJSHAHIc':\"rajshahi\", 'BARISHALc':\"barishal\", 'MYMENSINGHc':\"mymensingh\", 'RANGPURc':\"rangpur\", \n",
    "            'CUMILLAc':\"cumilla\",'Dhakab':\"dhaka\", 'Gazipurc':\"gazipur\", 'Narayanganjc':\"narayanganj\", 'Sylhetc':\"sylhet\", \n",
    "            'Khulnac':\"khulna\",'Rajshahic':\"rajshahi\", 'Barisalc':\"barishal\", 'Dhakac':\"dhaka\", 'DhakaC':\"dhaka\", \n",
    "            'Dhakaa':\"dhaka\", 'Sylhetc2':\"sylhet\",'Chittagongb':\"chittagong\", 'Sylhetcc':\"sylhet\"}"
   ]
  },
  {
   "cell_type": "code",
   "execution_count": 115,
   "metadata": {
    "collapsed": true
   },
   "outputs": [],
   "source": [
    "DF.location = DF.location.map(loc_dict)"
   ]
  },
  {
   "cell_type": "code",
   "execution_count": null,
   "metadata": {
    "collapsed": true
   },
   "outputs": [],
   "source": []
  },
  {
   "cell_type": "code",
   "execution_count": 116,
   "metadata": {
    "collapsed": true
   },
   "outputs": [],
   "source": [
    "DF[\"air_quality_index_(aqi)\"] = DF[\"air_quality_index_(aqi)\"].str.replace(\"\\xa0 \",\"\")"
   ]
  },
  {
   "cell_type": "code",
   "execution_count": 117,
   "metadata": {
    "collapsed": true
   },
   "outputs": [],
   "source": [
    "DF[\"air_quality_index_(aqi)\"] = DF[\"air_quality_index_(aqi)\"].str.replace(\"\\xa0\",\"\")"
   ]
  },
  {
   "cell_type": "code",
   "execution_count": 118,
   "metadata": {
    "collapsed": true
   },
   "outputs": [],
   "source": [
    "DF[\"air_quality_index_(aqi)\"] = DF[\"air_quality_index_(aqi)\"].str.replace(\" \",\"\")"
   ]
  },
  {
   "cell_type": "code",
   "execution_count": 119,
   "metadata": {
    "collapsed": true
   },
   "outputs": [],
   "source": [
    "DF[\"air_quality_index_(aqi)\"] = DF[\"air_quality_index_(aqi)\"].str.replace('DATANOTAVAILABLE',\"DNA\")"
   ]
  },
  {
   "cell_type": "code",
   "execution_count": 120,
   "metadata": {
    "collapsed": true
   },
   "outputs": [],
   "source": [
    "DF[\"air_quality_index_(aqi)\"] = DF[\"air_quality_index_(aqi)\"].str.replace(\"DNA*\",\"DNA\")"
   ]
  },
  {
   "cell_type": "code",
   "execution_count": 121,
   "metadata": {},
   "outputs": [
    {
     "data": {
      "text/plain": [
       "array(['122', '53', '46', '40', '26', '66', '23', '30', '98', '87', '64',\n",
       "       '51', '28', 'DNA', '77', '37', '135', '111', '93', '63', '52', '56',\n",
       "       '34', '117', '89', '49', '25', '69', '41', '114', '68', '35', '18',\n",
       "       '42', '27', '88', '20', '14', '113', '86', '33', '29', '36', '15',\n",
       "       '139', '108', '38', '44', '79', '162', '209', '47', '82', '50',\n",
       "       '78', '74', '148', '142', '58', '39', '16', '65', '83', '54', '144',\n",
       "       '71', '115', '85', '128', '102', '57', '131', '103', '92', '45',\n",
       "       '112', '70', '97', '110', '100', '76', '48', '19', '22', '67', '55',\n",
       "       '21', '31', '62', '32', '24', '59', '72', '73', '133', '90', '81',\n",
       "       '105', '109', '104', '125', '174', '149', '43', '84', '126', '75',\n",
       "       '10', '124', '119', '95', '120', '101', '136', '168', '118', '210',\n",
       "       '227', '130', '106', '146', '141', '123', '147', '153', '178', '94',\n",
       "       '80', '91', '172', '129', '116', '189', '134', '99', '223', '132',\n",
       "       '214', '152', '150', '220', '156', '165', '121', '17', '61', '164',\n",
       "       '155', '137', '184', '173', '310', '201', '161', '186', '96', '206',\n",
       "       '188', '187', '213', '222', '298', '306', '167', '238', '295',\n",
       "       '207', '185', '285', '163', '127', '60', '169', '157', '176', '166',\n",
       "       '180', '191', '198', '231', '138', '192', '205', '171', '145',\n",
       "       '234', '151', '199', '257', '195', '159', '154', '158', '160',\n",
       "       '194', '307', '372', '239', '267', '183', '342', '269', '359',\n",
       "       '438', '230', '278', '190', '175', '182', '255', '197', '251',\n",
       "       '221', '236', '327', '204', '177', '246', '292', '324', '202',\n",
       "       '217', '224', '320', '143', '301', '376', '266', '300', '339',\n",
       "       '308', '273', '247', '322', '243', '250', '228', '293', '479',\n",
       "       '346', '420', '181', '294', '268', '280', '196', '393', '336',\n",
       "       '343', '309', '179', '318', '211', '378', '314', '364', '219',\n",
       "       '216', '315', '262', '316', '317', '328', '193', '360', '428',\n",
       "       '225', '237', '274', '422', '331', '305', '636', '283', '254',\n",
       "       '334', '288', '240', '311', '330', '344', '379', '337', '351',\n",
       "       '358', '496', '355', '326', '423', '416', '362', '338', '380',\n",
       "       '218', '312', '455', '241', '208', '229', '478', '249', '402',\n",
       "       '215', '296', '361', '446', '253', '350', '367', '384', '281',\n",
       "       '264', '242', '233', '353', '302', '345', '270', '325', '398',\n",
       "       '401', '532', '410', '356', '377', '321', '473', '383', '348',\n",
       "       '354', '437', '332', '382', '400', '475', '335', '371', '431',\n",
       "       '441', '284', '303', '282', '323', '412', '333', '374', '276',\n",
       "       '363', '432', '248', '450', '418', '259', '286', '388', '409',\n",
       "       '313', '389', '304', '394', '405', '244', '468', '406', '258',\n",
       "       '287', '272', '261', '329', '299', '265', '411', '381', '349',\n",
       "       '341', '203', '396', '439', '395', '373', '235', '140', '368',\n",
       "       '260', '170', '365', '226', '319', '277', '200', '640', '487',\n",
       "       '107', '13', '12', '7', '8', '08', '11', '9', '', '426', '289',\n",
       "       '263', '501', '415', '536', '385', '390', '279', '369', '252',\n",
       "       '421', '524', '408', '469', '454', '463', '352', '498', '522',\n",
       "       '297', '357', '517', '245', '271', '557', '387', '548', '392',\n",
       "       '434', '506', '397', '386', '565', '407', '531', '500', '539',\n",
       "       '519', '452', '445', '413', '525', '366', '425', '477', '576',\n",
       "       '491', '404', '391', '430', '457', '290', '440', '449', '399',\n",
       "       '256', '467', '559', '551', '375', '470', '232', '212', '07', '05',\n",
       "       '435', '347', '403', '370', '340', '569', '499', '494', '275',\n",
       "       '427', '414', '419', '508', '492', '502', '523', '581', '458',\n",
       "       '460', '483', '503', '542', '451', '436', '291', '0', '484', '447',\n",
       "       '547', '550', '461', '3', '546', '485', '638', '540', '530', '579',\n",
       "       '533', '444', '590', 'DNA*'], dtype=object)"
      ]
     },
     "execution_count": 121,
     "metadata": {},
     "output_type": "execute_result"
    }
   ],
   "source": [
    "DF[\"air_quality_index_(aqi)\"].unique()"
   ]
  },
  {
   "cell_type": "code",
   "execution_count": 122,
   "metadata": {
    "collapsed": true
   },
   "outputs": [],
   "source": [
    "DF[\"air_quality_index_(aqi)\"] = DF[\"air_quality_index_(aqi)\"].str.lower()"
   ]
  },
  {
   "cell_type": "code",
   "execution_count": 123,
   "metadata": {
    "collapsed": true
   },
   "outputs": [],
   "source": [
    "DF['aqi_category'] = DF['aqi_category'].str.replace(\"\\xa0 \",\"\")"
   ]
  },
  {
   "cell_type": "code",
   "execution_count": 124,
   "metadata": {
    "collapsed": true
   },
   "outputs": [],
   "source": [
    "DF['aqi_category'] = DF['aqi_category'].str.replace(\"\\xa0\",\"\")"
   ]
  },
  {
   "cell_type": "code",
   "execution_count": 125,
   "metadata": {
    "collapsed": true
   },
   "outputs": [],
   "source": [
    "DF['aqi_category'] = DF['aqi_category'].str.replace(\"\\n\",\"\")"
   ]
  },
  {
   "cell_type": "code",
   "execution_count": 126,
   "metadata": {
    "collapsed": true
   },
   "outputs": [],
   "source": [
    "DF['aqi_category'] = DF['aqi_category'].str.lower()"
   ]
  },
  {
   "cell_type": "code",
   "execution_count": 127,
   "metadata": {
    "collapsed": true
   },
   "outputs": [],
   "source": [
    "DF['aqi_category'] = DF['aqi_category'].str.strip()"
   ]
  },
  {
   "cell_type": "code",
   "execution_count": 128,
   "metadata": {
    "collapsed": true
   },
   "outputs": [],
   "source": [
    "DF['aqi_category'] = DF['aqi_category'].str.replace(\"ââ\",\" \")"
   ]
  },
  {
   "cell_type": "code",
   "execution_count": 129,
   "metadata": {
    "collapsed": true
   },
   "outputs": [],
   "source": [
    "DF['aqi_category'] = DF['aqi_category'].str.replace(\"â\",\" \")"
   ]
  },
  {
   "cell_type": "code",
   "execution_count": 130,
   "metadata": {
    "collapsed": true
   },
   "outputs": [],
   "source": [
    "DF['aqi_category'] = DF['aqi_category'].str.replace('extremelyunhealthy','extremely unhealthy')"
   ]
  },
  {
   "cell_type": "code",
   "execution_count": 131,
   "metadata": {
    "collapsed": true
   },
   "outputs": [],
   "source": [
    "DF['aqi_category'] = DF['aqi_category'].str.replace( 'exetremelyunhealthy','extremely unhealthy')"
   ]
  },
  {
   "cell_type": "code",
   "execution_count": 140,
   "metadata": {
    "collapsed": true
   },
   "outputs": [],
   "source": [
    "DF['aqi_category'] = DF['aqi_category'].str.replace('exetremely unhealthy','extremely unhealthy')"
   ]
  },
  {
   "cell_type": "code",
   "execution_count": 144,
   "metadata": {
    "collapsed": true
   },
   "outputs": [],
   "source": [
    "DF['aqi_category'] = DF['aqi_category'].str.replace('extremelyunhealthy','extremely unhealthy')"
   ]
  },
  {
   "cell_type": "code",
   "execution_count": 132,
   "metadata": {
    "collapsed": true
   },
   "outputs": [],
   "source": [
    "DF['aqi_category'] = DF['aqi_category'].str.replace('extremly unhealthy','extremely unhealthy')"
   ]
  },
  {
   "cell_type": "code",
   "execution_count": 133,
   "metadata": {
    "collapsed": true
   },
   "outputs": [],
   "source": [
    "DF['aqi_category'] = DF['aqi_category'].str.replace('moderatre','moderate')"
   ]
  },
  {
   "cell_type": "code",
   "execution_count": 134,
   "metadata": {
    "collapsed": true
   },
   "outputs": [],
   "source": [
    "DF['aqi_category'] = DF['aqi_category'].str.replace('modetate','moderate')"
   ]
  },
  {
   "cell_type": "code",
   "execution_count": 135,
   "metadata": {
    "collapsed": true
   },
   "outputs": [],
   "source": [
    "DF['aqi_category'] = DF['aqi_category'].str.replace('mderate','moderate')"
   ]
  },
  {
   "cell_type": "code",
   "execution_count": 136,
   "metadata": {
    "collapsed": true
   },
   "outputs": [],
   "source": [
    "DF['aqi_category'] = DF['aqi_category'].str.replace( 'veary unhealthy','very unhealthy')"
   ]
  },
  {
   "cell_type": "code",
   "execution_count": 138,
   "metadata": {
    "collapsed": true
   },
   "outputs": [],
   "source": [
    "DF['aqi_category'] = DF['aqi_category'].str.replace( 'veryunhealthy','very unhealthy')"
   ]
  },
  {
   "cell_type": "code",
   "execution_count": 146,
   "metadata": {
    "collapsed": true
   },
   "outputs": [],
   "source": [
    "DF['aqi_category'] = DF['aqi_category'].str.replace( 'veryunhealthy','very unhealthy')"
   ]
  },
  {
   "cell_type": "code",
   "execution_count": 142,
   "metadata": {
    "collapsed": true
   },
   "outputs": [],
   "source": [
    "DF['aqi_category'] = DF['aqi_category'].str.replace( ' unhealthy','unhealthy')"
   ]
  },
  {
   "cell_type": "code",
   "execution_count": 148,
   "metadata": {
    "collapsed": true
   },
   "outputs": [],
   "source": [
    "DF['aqi_category'] = DF['aqi_category'].str.replace( 'data not available','dna')"
   ]
  },
  {
   "cell_type": "code",
   "execution_count": 156,
   "metadata": {},
   "outputs": [
    {
     "data": {
      "text/plain": [
       "array(['caution', 'moderate', 'good', 'dna', 'unhealthy', 'very unhealthy',\n",
       "       'extremely unhealthy', nan, 'extremely very unhealthy'], dtype=object)"
      ]
     },
     "execution_count": 156,
     "metadata": {},
     "output_type": "execute_result"
    }
   ],
   "source": [
    "DF['aqi_category'].unique()"
   ]
  },
  {
   "cell_type": "code",
   "execution_count": 155,
   "metadata": {},
   "outputs": [
    {
     "name": "stderr",
     "output_type": "stream",
     "text": [
      "C:\\ProgramData\\Anaconda3\\lib\\site-packages\\ipykernel_launcher.py:1: DeprecationWarning: \n",
      ".ix is deprecated. Please use\n",
      ".loc for label based indexing or\n",
      ".iloc for positional indexing\n",
      "\n",
      "See the documentation here:\n",
      "http://pandas.pydata.org/pandas-docs/stable/indexing.html#ix-indexer-is-deprecated\n",
      "  \"\"\"Entry point for launching an IPython kernel.\n"
     ]
    }
   ],
   "source": [
    "DF.ix[DF[DF['aqi_category'].isin([''])].index,'aqi_category'] = np.nan"
   ]
  },
  {
   "cell_type": "code",
   "execution_count": 160,
   "metadata": {
    "collapsed": true
   },
   "outputs": [],
   "source": [
    "DF.ix[DF[DF[\"aqi_range\"].isin(['','ÂÂ\\xa0ÂÂ\\xa0','\\xa0\\xa0',])].index,\"aqi_range\"] = np.nan"
   ]
  },
  {
   "cell_type": "code",
   "execution_count": null,
   "metadata": {
    "collapsed": true
   },
   "outputs": [],
   "source": []
  },
  {
   "cell_type": "code",
   "execution_count": 164,
   "metadata": {
    "collapsed": true
   },
   "outputs": [],
   "source": [
    "DF['date'] = DF['date'].str.replace( 'Date: ','')"
   ]
  },
  {
   "cell_type": "code",
   "execution_count": 167,
   "metadata": {
    "collapsed": true
   },
   "outputs": [],
   "source": [
    "DF['date'] = DF['date'].str.replace( 'Date:','')"
   ]
  },
  {
   "cell_type": "code",
   "execution_count": 181,
   "metadata": {
    "collapsed": true
   },
   "outputs": [],
   "source": [
    "DF['date'] = DF['date'].str.replace( \"\\xa0\",'')"
   ]
  },
  {
   "cell_type": "code",
   "execution_count": 185,
   "metadata": {
    "collapsed": true
   },
   "outputs": [],
   "source": [
    "DF['date'] = DF['date'].str.replace( \"201557\",'2015')"
   ]
  },
  {
   "cell_type": "code",
   "execution_count": 186,
   "metadata": {
    "collapsed": true
   },
   "outputs": [],
   "source": [
    "DF.date = pd.Series([datetime.datetime.strptime(item,\"%d/%m/%Y\").date() if pd.notnull(item) else item for item in DF.date],\n",
    "                    index=DF.index)"
   ]
  },
  {
   "cell_type": "code",
   "execution_count": 188,
   "metadata": {},
   "outputs": [
    {
     "data": {
      "text/html": [
       "<div>\n",
       "<style>\n",
       "    .dataframe thead tr:only-child th {\n",
       "        text-align: right;\n",
       "    }\n",
       "\n",
       "    .dataframe thead th {\n",
       "        text-align: left;\n",
       "    }\n",
       "\n",
       "    .dataframe tbody tr th {\n",
       "        vertical-align: top;\n",
       "    }\n",
       "</style>\n",
       "<table border=\"1\" class=\"dataframe\">\n",
       "  <thead>\n",
       "    <tr style=\"text-align: right;\">\n",
       "      <th></th>\n",
       "      <th>location</th>\n",
       "      <th>air_quality_index_(aqi)</th>\n",
       "      <th>aqi_category</th>\n",
       "      <th>aqi_range</th>\n",
       "      <th>date</th>\n",
       "      <th>url</th>\n",
       "    </tr>\n",
       "  </thead>\n",
       "  <tbody>\n",
       "    <tr>\n",
       "      <th>0</th>\n",
       "      <td>dhaka</td>\n",
       "      <td>122</td>\n",
       "      <td>caution</td>\n",
       "      <td>NaN</td>\n",
       "      <td>2019-06-26</td>\n",
       "      <td>http://case.doe.gov.bd/index.php?option=com_co...</td>\n",
       "    </tr>\n",
       "    <tr>\n",
       "      <th>1</th>\n",
       "      <td>narayanganj</td>\n",
       "      <td>53</td>\n",
       "      <td>moderate</td>\n",
       "      <td>NaN</td>\n",
       "      <td>2019-06-26</td>\n",
       "      <td>http://case.doe.gov.bd/index.php?option=com_co...</td>\n",
       "    </tr>\n",
       "    <tr>\n",
       "      <th>2</th>\n",
       "      <td>chittagong</td>\n",
       "      <td>46</td>\n",
       "      <td>good</td>\n",
       "      <td>NaN</td>\n",
       "      <td>2019-06-26</td>\n",
       "      <td>http://case.doe.gov.bd/index.php?option=com_co...</td>\n",
       "    </tr>\n",
       "    <tr>\n",
       "      <th>3</th>\n",
       "      <td>sylhet</td>\n",
       "      <td>40</td>\n",
       "      <td>good</td>\n",
       "      <td>NaN</td>\n",
       "      <td>2019-06-26</td>\n",
       "      <td>http://case.doe.gov.bd/index.php?option=com_co...</td>\n",
       "    </tr>\n",
       "    <tr>\n",
       "      <th>4</th>\n",
       "      <td>khulna</td>\n",
       "      <td>26</td>\n",
       "      <td>good</td>\n",
       "      <td>NaN</td>\n",
       "      <td>2019-06-26</td>\n",
       "      <td>http://case.doe.gov.bd/index.php?option=com_co...</td>\n",
       "    </tr>\n",
       "  </tbody>\n",
       "</table>\n",
       "</div>"
      ],
      "text/plain": [
       "      location air_quality_index_(aqi) aqi_category aqi_range        date  \\\n",
       "0        dhaka                     122      caution       NaN  2019-06-26   \n",
       "1  narayanganj                      53     moderate       NaN  2019-06-26   \n",
       "2   chittagong                      46         good       NaN  2019-06-26   \n",
       "3       sylhet                      40         good       NaN  2019-06-26   \n",
       "4       khulna                      26         good       NaN  2019-06-26   \n",
       "\n",
       "                                                 url  \n",
       "0  http://case.doe.gov.bd/index.php?option=com_co...  \n",
       "1  http://case.doe.gov.bd/index.php?option=com_co...  \n",
       "2  http://case.doe.gov.bd/index.php?option=com_co...  \n",
       "3  http://case.doe.gov.bd/index.php?option=com_co...  \n",
       "4  http://case.doe.gov.bd/index.php?option=com_co...  "
      ]
     },
     "execution_count": 188,
     "metadata": {},
     "output_type": "execute_result"
    }
   ],
   "source": [
    "DF.head()"
   ]
  },
  {
   "cell_type": "code",
   "execution_count": 189,
   "metadata": {
    "collapsed": true
   },
   "outputs": [],
   "source": [
    "DF.to_csv(\"AQI_Data.csv\",encoding=\"utf-8\",index=False)"
   ]
  },
  {
   "cell_type": "code",
   "execution_count": 8,
   "metadata": {},
   "outputs": [
    {
     "name": "stderr",
     "output_type": "stream",
     "text": [
      "C:\\ProgramData\\Anaconda3\\lib\\site-packages\\pandas\\io\\stata.py:2070: InvalidColumnName: \n",
      "Not all pandas column names were valid Stata variable names.\n",
      "The following replacements have been made:\n",
      "\n",
      "    b'air_quality_index_(aqi)'   ->   air_quality_index__aqi_\n",
      "\n",
      "If this is not what you expect, please make sure you have Stata-compliant\n",
      "column names in your DataFrame (strings only, max 32 characters, only\n",
      "alphanumerics and underscores, no Stata reserved words)\n",
      "\n",
      "  warnings.warn(ws, InvalidColumnName)\n"
     ]
    }
   ],
   "source": [
    "DF.to_stata(\"AQI_Data_30Jun2019.dta\")"
   ]
  },
  {
   "cell_type": "code",
   "execution_count": null,
   "metadata": {
    "collapsed": true
   },
   "outputs": [],
   "source": []
  }
 ],
 "metadata": {
  "colab": {
   "name": "DailyAirQualityIndexDataScrapper.ipynb",
   "provenance": [],
   "version": "0.3.2"
  },
  "kernelspec": {
   "display_name": "Python 3",
   "language": "python",
   "name": "python3"
  },
  "language_info": {
   "codemirror_mode": {
    "name": "ipython",
    "version": 3
   },
   "file_extension": ".py",
   "mimetype": "text/x-python",
   "name": "python",
   "nbconvert_exporter": "python",
   "pygments_lexer": "ipython3",
   "version": "3.6.3"
  }
 },
 "nbformat": 4,
 "nbformat_minor": 1
}
